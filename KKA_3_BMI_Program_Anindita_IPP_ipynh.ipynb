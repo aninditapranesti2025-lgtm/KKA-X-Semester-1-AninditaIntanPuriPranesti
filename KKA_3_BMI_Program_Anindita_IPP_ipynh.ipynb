{
  "nbformat": 4,
  "nbformat_minor": 0,
  "metadata": {
    "colab": {
      "provenance": [],
      "authorship_tag": "ABX9TyNbM2Qk20V8dc4KWC/cZNJS",
      "include_colab_link": true
    },
    "kernelspec": {
      "name": "python3",
      "display_name": "Python 3"
    },
    "language_info": {
      "name": "python"
    }
  },
  "cells": [
    {
      "cell_type": "markdown",
      "metadata": {
        "id": "view-in-github",
        "colab_type": "text"
      },
      "source": [
        "<a href=\"https://colab.research.google.com/github/aninditapranesti2025-lgtm/KKA-X-Semester-1-AninditaIntanPuriPranesti/blob/main/KKA_3_BMI_Program_Anindita_IPP_ipynh.ipynb\" target=\"_parent\"><img src=\"https://colab.research.google.com/assets/colab-badge.svg\" alt=\"Open In Colab\"/></a>"
      ]
    },
    {
      "cell_type": "code",
      "execution_count": null,
      "metadata": {
        "colab": {
          "base_uri": "https://localhost:8080/"
        },
        "id": "IKiSQd8QpSQl",
        "outputId": "8e73e693-008a-4324-9934-067f5d314201"
      },
      "outputs": [
        {
          "output_type": "stream",
          "name": "stdout",
          "text": [
            "BMI = 19.1 kg/m^2\n"
          ]
        }
      ],
      "source": [
        "print(\"BMI = 19.1 kg/m^2\")"
      ]
    },
    {
      "cell_type": "code",
      "source": [
        "print (\"Healthy weight\")"
      ],
      "metadata": {
        "colab": {
          "base_uri": "https://localhost:8080/"
        },
        "id": "rGSt7NqgsAWa",
        "outputId": "2e3c8066-7d1d-4ad1-a621-83ee2ccb229b"
      },
      "execution_count": null,
      "outputs": [
        {
          "output_type": "stream",
          "name": "stdout",
          "text": [
            "Healthy weight\n"
          ]
        }
      ]
    },
    {
      "cell_type": "code",
      "source": [
        "nama = \"Anindita Intan Puri Pranesti\"\n",
        "bb = 47\n",
        "TB = 1.61\n",
        "\n",
        "print (nama)\n",
        "print (bb)\n",
        "print (TB)"
      ],
      "metadata": {
        "colab": {
          "base_uri": "https://localhost:8080/"
        },
        "id": "M26Ky3tltGix",
        "outputId": "babcdbc9-3e0b-4e33-b758-647326365bff"
      },
      "execution_count": null,
      "outputs": [
        {
          "output_type": "stream",
          "name": "stdout",
          "text": [
            "Anindita Intan Puri Pranesti\n",
            "47\n",
            "1.61\n"
          ]
        }
      ]
    },
    {
      "cell_type": "code",
      "source": [
        "BMI = bb/(TB*TB)\n",
        "print(BMI)"
      ],
      "metadata": {
        "colab": {
          "base_uri": "https://localhost:8080/"
        },
        "id": "S3y9lalauEmM",
        "outputId": "e9fdf402-a80d-435f-e348-8f6df68ebf51"
      },
      "execution_count": null,
      "outputs": [
        {
          "output_type": "stream",
          "name": "stdout",
          "text": [
            "18.132016511708652\n"
          ]
        }
      ]
    },
    {
      "cell_type": "code",
      "source": [
        "if BMI < 18.5:\n",
        " print(\"Underweight\")\n",
        "elif 18.5 <= BMI <25:\n",
        "    print (\"Normal\")"
      ],
      "metadata": {
        "colab": {
          "base_uri": "https://localhost:8080/"
        },
        "id": "Fd1SkOUDyKuL",
        "outputId": "d7626b22-a24a-4fa0-cb85-d5fd76fd6a02"
      },
      "execution_count": null,
      "outputs": [
        {
          "output_type": "stream",
          "name": "stdout",
          "text": [
            "Underweight\n"
          ]
        }
      ]
    }
  ]
}